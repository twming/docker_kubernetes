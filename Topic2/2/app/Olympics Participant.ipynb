{
 "cells": [
  {
   "cell_type": "code",
   "execution_count": null,
   "id": "389bed93",
   "metadata": {},
   "outputs": [],
   "source": [
    "import pandas as pd"
   ]
  },
  {
   "cell_type": "code",
   "execution_count": null,
   "id": "a38e565c",
   "metadata": {},
   "outputs": [],
   "source": [
    "data=pd.read_csv(\"olympics.csv\")"
   ]
  },
  {
   "cell_type": "code",
   "execution_count": null,
   "id": "10574e36",
   "metadata": {},
   "outputs": [],
   "source": [
    "data_index=data[data.Medal=='Gold'].groupby(by=['Edition','Gender'],as_index=False).count()"
   ]
  },
  {
   "cell_type": "code",
   "execution_count": null,
   "id": "1a7a021d",
   "metadata": {},
   "outputs": [],
   "source": [
    "data_index.head()"
   ]
  },
  {
   "cell_type": "code",
   "execution_count": null,
   "id": "1c17e5bd",
   "metadata": {},
   "outputs": [],
   "source": [
    "import matplotlib.pyplot as plt"
   ]
  },
  {
   "cell_type": "code",
   "execution_count": null,
   "id": "2467eda2",
   "metadata": {},
   "outputs": [],
   "source": [
    "fig = plt.gcf()\n",
    "plt.xlim(1890,2010)\n",
    "plt.plot(data_index[data_index.Gender=='Men'].Edition,data_index[data_index.Gender=='Men'].Sport,label='Men')\n",
    "plt.plot(data_index[data_index.Gender=='Women'].Edition,data_index[data_index.Gender=='Women'].Sport,label='Women')\n",
    "plt.xlabel('Year')\n",
    "plt.ylabel('Gold Participants')\n",
    "plt.legend()"
   ]
  },
  {
   "cell_type": "code",
   "execution_count": null,
   "id": "3b0c8e52",
   "metadata": {},
   "outputs": [],
   "source": [
    "plt.show()\n",
    "fig.savefig('../result/GoldOlympicParticipant')"
   ]
  }
 ],
 "metadata": {
  "kernelspec": {
   "display_name": "Python 3 (ipykernel)",
   "language": "python",
   "name": "python3"
  },
  "language_info": {
   "codemirror_mode": {
    "name": "ipython",
    "version": 3
   },
   "file_extension": ".py",
   "mimetype": "text/x-python",
   "name": "python",
   "nbconvert_exporter": "python",
   "pygments_lexer": "ipython3",
   "version": "3.7.3"
  }
 },
 "nbformat": 4,
 "nbformat_minor": 5
}
